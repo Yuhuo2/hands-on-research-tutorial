{
  "cells": [
    {
      "cell_type": "code",
      "source": [
        "pwd"
      ],
      "metadata": {
        "id": "BkC7vkPHYNHk",
        "outputId": "495fceca-af8c-4bd0-bddf-165d24579a4c",
        "colab": {
          "base_uri": "https://localhost:8080/",
          "height": 35
        }
      },
      "id": "BkC7vkPHYNHk",
      "execution_count": 3,
      "outputs": [
        {
          "output_type": "execute_result",
          "data": {
            "text/plain": [
              "'/content'"
            ],
            "application/vnd.google.colaboratory.intrinsic+json": {
              "type": "string"
            }
          },
          "metadata": {},
          "execution_count": 3
        }
      ]
    },
    {
      "cell_type": "code",
      "execution_count": null,
      "id": "15383388-cd30-4eb5-be7b-16fba3a28c78",
      "metadata": {
        "id": "15383388-cd30-4eb5-be7b-16fba3a28c78"
      },
      "outputs": [],
      "source": [
        "# 为了了解图像本质，我们需要先了解一下数组和矩阵的概念"
      ]
    },
    {
      "cell_type": "code",
      "execution_count": 4,
      "id": "d4517aa2-1885-4a15-89ba-bd7c76761ee3",
      "metadata": {
        "id": "d4517aa2-1885-4a15-89ba-bd7c76761ee3"
      },
      "outputs": [],
      "source": [
        "# 首先回忆一下，如何创建一个列表\n",
        "\n",
        "list_a = [1,2,3,4,5]"
      ]
    },
    {
      "cell_type": "code",
      "execution_count": 5,
      "id": "54d0dffa-1c59-4973-9c88-b26ba080d7c6",
      "metadata": {
        "id": "54d0dffa-1c59-4973-9c88-b26ba080d7c6",
        "outputId": "e19d1456-8939-4e93-899e-fcbdb76fd7d7",
        "colab": {
          "base_uri": "https://localhost:8080/"
        }
      },
      "outputs": [
        {
          "output_type": "execute_result",
          "data": {
            "text/plain": [
              "[1, 2, 3, 4, 5]"
            ]
          },
          "metadata": {},
          "execution_count": 5
        }
      ],
      "source": [
        "# 打印一下\n",
        "list_a"
      ]
    },
    {
      "cell_type": "code",
      "execution_count": 6,
      "id": "f07e5c79-33d6-44ae-9ab1-504e821c2df6",
      "metadata": {
        "id": "f07e5c79-33d6-44ae-9ab1-504e821c2df6",
        "outputId": "7c854918-3a7b-42c2-dd14-4171f40dd57f",
        "colab": {
          "base_uri": "https://localhost:8080/"
        }
      },
      "outputs": [
        {
          "output_type": "execute_result",
          "data": {
            "text/plain": [
              "list"
            ]
          },
          "metadata": {},
          "execution_count": 6
        }
      ],
      "source": [
        "# 使用type命令查看数据类型，\n",
        "type(list_a)"
      ]
    },
    {
      "cell_type": "code",
      "execution_count": null,
      "id": "cf658d18-e0d4-4d98-9fb6-18e28742ec4a",
      "metadata": {
        "id": "cf658d18-e0d4-4d98-9fb6-18e28742ec4a"
      },
      "outputs": [],
      "source": [
        "# 可以看到是Python的列表"
      ]
    },
    {
      "cell_type": "code",
      "execution_count": null,
      "id": "1f1492fa-79fa-4d19-b8ec-a8d6d405f518",
      "metadata": {
        "id": "1f1492fa-79fa-4d19-b8ec-a8d6d405f518"
      },
      "outputs": [],
      "source": [
        "# 再创建一个列表，使这个列表的元素仍然是列表"
      ]
    },
    {
      "cell_type": "code",
      "execution_count": 7,
      "id": "0dc1c945-0df1-4d4a-b01c-1d787b7ad032",
      "metadata": {
        "id": "0dc1c945-0df1-4d4a-b01c-1d787b7ad032"
      },
      "outputs": [],
      "source": [
        "list_b = [ [1,2], [3,4], [5,6]  ]"
      ]
    },
    {
      "cell_type": "code",
      "execution_count": null,
      "id": "f7b3b14a-ff0a-4cd1-ad58-19775a35f867",
      "metadata": {
        "id": "f7b3b14a-ff0a-4cd1-ad58-19775a35f867"
      },
      "outputs": [],
      "source": []
    },
    {
      "cell_type": "code",
      "execution_count": 8,
      "id": "213395c4-b741-4022-b9e6-61bfed124df8",
      "metadata": {
        "id": "213395c4-b741-4022-b9e6-61bfed124df8",
        "outputId": "9f92a0d4-73a9-46af-e9e5-45315d1e0dea",
        "colab": {
          "base_uri": "https://localhost:8080/"
        }
      },
      "outputs": [
        {
          "output_type": "execute_result",
          "data": {
            "text/plain": [
              "[[1, 2], [3, 4], [5, 6]]"
            ]
          },
          "metadata": {},
          "execution_count": 8
        }
      ],
      "source": [
        "# 打印列表\n",
        "list_b"
      ]
    },
    {
      "cell_type": "code",
      "execution_count": 9,
      "id": "591cd606-52b4-4ac4-86e1-6510e51f7926",
      "metadata": {
        "id": "591cd606-52b4-4ac4-86e1-6510e51f7926",
        "outputId": "2c4deeaa-c120-498f-c740-2de1cb79fb4c",
        "colab": {
          "base_uri": "https://localhost:8080/"
        }
      },
      "outputs": [
        {
          "output_type": "execute_result",
          "data": {
            "text/plain": [
              "3"
            ]
          },
          "metadata": {},
          "execution_count": 9
        }
      ],
      "source": [
        "# 通过找数字索引，打印第list_b第2个元素的第1个元素\n",
        "list_b[1][0]"
      ]
    },
    {
      "cell_type": "code",
      "execution_count": null,
      "id": "2f8f7583-4f2d-490e-8010-c90e8d503732",
      "metadata": {
        "id": "2f8f7583-4f2d-490e-8010-c90e8d503732"
      },
      "outputs": [],
      "source": [
        "# 这种结构我们也叫数组，比如list_a是一维数组，list_b是二维数组"
      ]
    },
    {
      "cell_type": "code",
      "execution_count": null,
      "id": "b8dbb745-b725-402f-ae4f-ed37bf08bf14",
      "metadata": {
        "id": "b8dbb745-b725-402f-ae4f-ed37bf08bf14"
      },
      "outputs": [],
      "source": []
    },
    {
      "cell_type": "code",
      "execution_count": null,
      "id": "36d0a8d4-0083-4296-bcd0-d312472b3b6f",
      "metadata": {
        "id": "36d0a8d4-0083-4296-bcd0-d312472b3b6f"
      },
      "outputs": [],
      "source": []
    },
    {
      "cell_type": "code",
      "execution_count": null,
      "id": "af8dc419-0007-424d-b525-c0b64bba5fc5",
      "metadata": {
        "id": "af8dc419-0007-424d-b525-c0b64bba5fc5"
      },
      "outputs": [],
      "source": [
        "# 为了更高效的处理数组，我们常用numpy在这个包"
      ]
    },
    {
      "cell_type": "code",
      "execution_count": 10,
      "id": "4969c88f-8885-4469-ac80-42192f2b5d60",
      "metadata": {
        "id": "4969c88f-8885-4469-ac80-42192f2b5d60"
      },
      "outputs": [],
      "source": [
        "# 首先导入numpy包，重命名一下\n",
        "import numpy as np"
      ]
    },
    {
      "cell_type": "code",
      "execution_count": null,
      "id": "a4d7bdd6-8bfe-4816-a1e9-9d0a863995bf",
      "metadata": {
        "id": "a4d7bdd6-8bfe-4816-a1e9-9d0a863995bf"
      },
      "outputs": [],
      "source": []
    },
    {
      "cell_type": "code",
      "execution_count": null,
      "id": "5159434f-0d1f-4c23-bc05-10dfd24f3b72",
      "metadata": {
        "id": "5159434f-0d1f-4c23-bc05-10dfd24f3b72"
      },
      "outputs": [],
      "source": [
        "# 那numpy如何创建数组呢？\n",
        "# 可以用Python列表直接转换"
      ]
    },
    {
      "cell_type": "code",
      "execution_count": 11,
      "id": "10d0fa81-43d5-446b-bede-80cbfb26537e",
      "metadata": {
        "id": "10d0fa81-43d5-446b-bede-80cbfb26537e"
      },
      "outputs": [],
      "source": [
        "# 首先创建一个Python 列表\n",
        "list_c = [1,2,3,4]"
      ]
    },
    {
      "cell_type": "code",
      "source": [
        "list_c"
      ],
      "metadata": {
        "id": "trOKWccNF08O",
        "outputId": "ade9524c-95f5-4d81-8a0c-91a52bcb4e91",
        "colab": {
          "base_uri": "https://localhost:8080/"
        }
      },
      "id": "trOKWccNF08O",
      "execution_count": 16,
      "outputs": [
        {
          "output_type": "execute_result",
          "data": {
            "text/plain": [
              "[1, 2, 3, 4]"
            ]
          },
          "metadata": {},
          "execution_count": 16
        }
      ]
    },
    {
      "cell_type": "code",
      "execution_count": 12,
      "id": "10cc86b8-8758-48cf-b474-72092fcc9c12",
      "metadata": {
        "id": "10cc86b8-8758-48cf-b474-72092fcc9c12",
        "outputId": "f3098656-6ee4-4aa7-b9e8-60c77840991e",
        "colab": {
          "base_uri": "https://localhost:8080/"
        }
      },
      "outputs": [
        {
          "output_type": "execute_result",
          "data": {
            "text/plain": [
              "list"
            ]
          },
          "metadata": {},
          "execution_count": 12
        }
      ],
      "source": [
        "# 检查类型\n",
        "type(list_c)"
      ]
    },
    {
      "cell_type": "code",
      "execution_count": 13,
      "id": "cc7a42a2-b9e9-461c-99e0-149ae8dbe5bb",
      "metadata": {
        "id": "cc7a42a2-b9e9-461c-99e0-149ae8dbe5bb"
      },
      "outputs": [],
      "source": [
        "# 在使用np.array()将Python列表转换为numpy的数组\n",
        "\n",
        "my_array = np.array(list_c)"
      ]
    },
    {
      "cell_type": "code",
      "execution_count": 14,
      "id": "88ae1544-427b-4e7d-8141-99e40cef0b65",
      "metadata": {
        "id": "88ae1544-427b-4e7d-8141-99e40cef0b65",
        "outputId": "a527082c-33ce-48d3-de2c-f11943317e5d",
        "colab": {
          "base_uri": "https://localhost:8080/"
        }
      },
      "outputs": [
        {
          "output_type": "execute_result",
          "data": {
            "text/plain": [
              "numpy.ndarray"
            ]
          },
          "metadata": {},
          "execution_count": 14
        }
      ],
      "source": [
        "# 我们检查一下my_array的类型，\n",
        "type(my_array)"
      ]
    },
    {
      "cell_type": "code",
      "execution_count": null,
      "id": "cc5a832e-e065-49e1-9ac8-b29348c62643",
      "metadata": {
        "id": "cc5a832e-e065-49e1-9ac8-b29348c62643"
      },
      "outputs": [],
      "source": [
        "# 可以看到这个变量已经是numpy的数组了"
      ]
    },
    {
      "cell_type": "code",
      "execution_count": 15,
      "id": "34056d39-e8d7-47b7-a302-6f6816495e07",
      "metadata": {
        "id": "34056d39-e8d7-47b7-a302-6f6816495e07",
        "outputId": "ae031672-5a7a-45bd-88e3-7bce73334fae",
        "colab": {
          "base_uri": "https://localhost:8080/"
        }
      },
      "outputs": [
        {
          "output_type": "execute_result",
          "data": {
            "text/plain": [
              "array([1, 2, 3, 4])"
            ]
          },
          "metadata": {},
          "execution_count": 15
        }
      ],
      "source": [
        "# 打印一下\n",
        "my_array"
      ]
    },
    {
      "cell_type": "code",
      "execution_count": null,
      "id": "c6e5a258-b06d-46b5-895b-901115910f84",
      "metadata": {
        "id": "c6e5a258-b06d-46b5-895b-901115910f84"
      },
      "outputs": [],
      "source": [
        "# 那numpy还有一些内置函数可以快速地创建数组"
      ]
    },
    {
      "cell_type": "code",
      "execution_count": null,
      "id": "3959dee6-7299-4078-b27e-707a92baaa40",
      "metadata": {
        "id": "3959dee6-7299-4078-b27e-707a92baaa40",
        "outputId": "6dfe79bf-0d05-4f48-c97a-8da68bd1f5bc",
        "colab": {
          "base_uri": "https://localhost:8080/"
        }
      },
      "outputs": [
        {
          "output_type": "execute_result",
          "data": {
            "text/plain": [
              "array([0, 1, 2, 3, 4, 5, 6, 7, 8, 9])"
            ]
          },
          "metadata": {},
          "execution_count": 14
        }
      ],
      "source": [
        "# 比如我们使用np.arange()可以快速创建连续数字的数组\n",
        "# 比如我创建一个0~9 的一维数组\n",
        "np.arange(0,10)"
      ]
    },
    {
      "cell_type": "code",
      "execution_count": null,
      "id": "ca263be4-ff10-4db1-8d8a-dd5c3a648b88",
      "metadata": {
        "id": "ca263be4-ff10-4db1-8d8a-dd5c3a648b88",
        "outputId": "fef7b008-3f0e-44fe-8e2f-48043e76b076",
        "colab": {
          "base_uri": "https://localhost:8080/"
        }
      },
      "outputs": [
        {
          "output_type": "execute_result",
          "data": {
            "text/plain": [
              "array([0, 2, 4, 6, 8])"
            ]
          },
          "metadata": {},
          "execution_count": 15
        }
      ],
      "source": [
        "# 如果我希望创建0~10中连续偶数的数组，只需将步长设为2（此刻输入np.arange(0,10,2)）\n",
        "\n",
        "np.arange(0,10,2)"
      ]
    },
    {
      "cell_type": "code",
      "execution_count": null,
      "id": "d76ea740-92e5-4c31-9794-3300ba67b730",
      "metadata": {
        "id": "d76ea740-92e5-4c31-9794-3300ba67b730",
        "outputId": "63ce53af-a1e5-4917-8332-a66b93b428ed",
        "colab": {
          "base_uri": "https://localhost:8080/"
        }
      },
      "outputs": [
        {
          "output_type": "execute_result",
          "data": {
            "text/plain": [
              "array([[1., 1., 1.],\n",
              "       [1., 1., 1.],\n",
              "       [1., 1., 1.]])"
            ]
          },
          "metadata": {},
          "execution_count": 16
        }
      ],
      "source": [
        "# 还可以用np.ones创建全是1的数组，（此时输入np.ones()，弹出帮助说明）\n",
        "# 比如我要创建一个大小为3*3的全1数组\n",
        "\n",
        "np.ones(shape=(3,3))"
      ]
    },
    {
      "cell_type": "code",
      "execution_count": null,
      "id": "b7de7fb3-8be0-4a45-ae4e-299ba07792d5",
      "metadata": {
        "id": "b7de7fb3-8be0-4a45-ae4e-299ba07792d5",
        "outputId": "48bb8438-c322-4738-a8b6-10d106475500",
        "colab": {
          "base_uri": "https://localhost:8080/"
        }
      },
      "outputs": [
        {
          "output_type": "execute_result",
          "data": {
            "text/plain": [
              "array([[1., 1., 1.],\n",
              "       [1., 1., 1.],\n",
              "       [1., 1., 1.],\n",
              "       [1., 1., 1.],\n",
              "       [1., 1., 1.],\n",
              "       [1., 1., 1.],\n",
              "       [1., 1., 1.],\n",
              "       [1., 1., 1.],\n",
              "       [1., 1., 1.],\n",
              "       [1., 1., 1.]])"
            ]
          },
          "metadata": {},
          "execution_count": 18
        }
      ],
      "source": [
        "# 再创建一个大小为10*3的全1数组\n",
        "# 可以看到10是行数，3是列数\n",
        "\n",
        "np.ones(shape=(10,3))"
      ]
    },
    {
      "cell_type": "code",
      "execution_count": null,
      "id": "2dff99bc-e78a-4c68-aa34-cf27d15d6539",
      "metadata": {
        "id": "2dff99bc-e78a-4c68-aa34-cf27d15d6539",
        "outputId": "f4fc5e0f-fbd6-4bf4-b035-f53168273a3f",
        "colab": {
          "base_uri": "https://localhost:8080/"
        }
      },
      "outputs": [
        {
          "output_type": "execute_result",
          "data": {
            "text/plain": [
              "array([[0., 0., 0., 0., 0.],\n",
              "       [0., 0., 0., 0., 0.],\n",
              "       [0., 0., 0., 0., 0.],\n",
              "       [0., 0., 0., 0., 0.],\n",
              "       [0., 0., 0., 0., 0.]])"
            ]
          },
          "metadata": {},
          "execution_count": 19
        }
      ],
      "source": [
        "# 或者使用np.zeros()全0数组\n",
        "# 比如创建大小为5*5的全0数组\n",
        "\n",
        "np.zeros(shape=(5,5))"
      ]
    },
    {
      "cell_type": "code",
      "source": [
        "# 换行"
      ],
      "metadata": {
        "id": "QuXczgXDaiBi"
      },
      "id": "QuXczgXDaiBi",
      "execution_count": null,
      "outputs": []
    },
    {
      "cell_type": "code",
      "execution_count": null,
      "id": "ae50d775-048d-4784-84b6-e7568e1d7693",
      "metadata": {
        "id": "ae50d775-048d-4784-84b6-e7568e1d7693"
      },
      "outputs": [],
      "source": [
        "# 我们再演示一下numpy的一些其他方法"
      ]
    },
    {
      "cell_type": "code",
      "execution_count": null,
      "id": "b88180c2-b73c-4a1f-80c6-0f8d4165d4ad",
      "metadata": {
        "id": "b88180c2-b73c-4a1f-80c6-0f8d4165d4ad"
      },
      "outputs": [],
      "source": [
        "# 首先使用np.randint函数一些随机整数\n",
        "arr = np.random.randint(0,100,10)"
      ]
    },
    {
      "cell_type": "code",
      "execution_count": null,
      "id": "70a96053-496d-43ac-b20c-a6e7aa836747",
      "metadata": {
        "id": "70a96053-496d-43ac-b20c-a6e7aa836747",
        "outputId": "608f2165-97f4-42b4-da9f-3dc4dc798814",
        "colab": {
          "base_uri": "https://localhost:8080/"
        }
      },
      "outputs": [
        {
          "output_type": "execute_result",
          "data": {
            "text/plain": [
              "array([44, 96, 53, 30, 26, 34, 15, 33, 50, 19])"
            ]
          },
          "metadata": {},
          "execution_count": 21
        }
      ],
      "source": [
        "# 打印一下\n",
        "arr"
      ]
    },
    {
      "cell_type": "code",
      "execution_count": null,
      "id": "31e195d1-0b34-45a8-902f-b8819f1a6a59",
      "metadata": {
        "id": "31e195d1-0b34-45a8-902f-b8819f1a6a59",
        "outputId": "5abe298b-7401-449e-992f-123d9a72dd9c",
        "colab": {
          "base_uri": "https://localhost:8080/"
        }
      },
      "outputs": [
        {
          "output_type": "execute_result",
          "data": {
            "text/plain": [
              "96"
            ]
          },
          "metadata": {},
          "execution_count": 22
        }
      ],
      "source": [
        "# 使用max获取最大值\n",
        "arr.max()"
      ]
    },
    {
      "cell_type": "code",
      "execution_count": null,
      "id": "41d156e5-fcbe-44b1-9dc4-97f2df30d2c7",
      "metadata": {
        "id": "41d156e5-fcbe-44b1-9dc4-97f2df30d2c7",
        "outputId": "214fcfe8-3346-4045-f0ca-b4b8d9975e8c",
        "colab": {
          "base_uri": "https://localhost:8080/"
        }
      },
      "outputs": [
        {
          "output_type": "execute_result",
          "data": {
            "text/plain": [
              "1"
            ]
          },
          "metadata": {},
          "execution_count": 23
        }
      ],
      "source": [
        "# 再使用argmax() 获取最大值的索引\n",
        "arr.argmax()"
      ]
    },
    {
      "cell_type": "code",
      "execution_count": null,
      "id": "3397d159-d1e7-4fef-9a94-ef61758839ea",
      "metadata": {
        "id": "3397d159-d1e7-4fef-9a94-ef61758839ea",
        "outputId": "5182c2f6-b90a-4866-c2b8-d62841195ba2",
        "colab": {
          "base_uri": "https://localhost:8080/"
        }
      },
      "outputs": [
        {
          "output_type": "execute_result",
          "data": {
            "text/plain": [
              "15"
            ]
          },
          "metadata": {},
          "execution_count": 24
        }
      ],
      "source": [
        "# 使用min函数获取最小值\n",
        "arr.min()"
      ]
    },
    {
      "cell_type": "code",
      "execution_count": null,
      "id": "78609eb1-06c4-4d5d-a793-e30e0f7a0870",
      "metadata": {
        "id": "78609eb1-06c4-4d5d-a793-e30e0f7a0870",
        "outputId": "dc90abad-36c2-4f37-f2a1-5096d1286f6e",
        "colab": {
          "base_uri": "https://localhost:8080/"
        }
      },
      "outputs": [
        {
          "output_type": "execute_result",
          "data": {
            "text/plain": [
              "6"
            ]
          },
          "metadata": {},
          "execution_count": 25
        }
      ],
      "source": [
        "# 使用argmin获取最小值索引\n",
        "arr.argmin()"
      ]
    },
    {
      "cell_type": "code",
      "execution_count": null,
      "id": "edeed617-bf91-44eb-aa5f-10be8a50db5c",
      "metadata": {
        "id": "edeed617-bf91-44eb-aa5f-10be8a50db5c",
        "outputId": "38baa895-6f50-4ec1-c2d2-519794713ed0",
        "colab": {
          "base_uri": "https://localhost:8080/"
        }
      },
      "outputs": [
        {
          "output_type": "execute_result",
          "data": {
            "text/plain": [
              "40.0"
            ]
          },
          "metadata": {},
          "execution_count": 26
        }
      ],
      "source": [
        "# 使用mean()方法获取取平均值\n",
        "arr.mean()"
      ]
    },
    {
      "cell_type": "code",
      "execution_count": null,
      "id": "14ef12ce-2882-4c61-b249-ba385f22a315",
      "metadata": {
        "id": "14ef12ce-2882-4c61-b249-ba385f22a315",
        "outputId": "6065a6cf-d0ec-4dd5-d4d3-f1590a82c5a5",
        "colab": {
          "base_uri": "https://localhost:8080/"
        }
      },
      "outputs": [
        {
          "output_type": "execute_result",
          "data": {
            "text/plain": [
              "(10,)"
            ]
          },
          "metadata": {},
          "execution_count": 27
        }
      ],
      "source": [
        "# 如果要获取humpy数组的大小，使用numpy.shape，\n",
        "arr.shape"
      ]
    },
    {
      "cell_type": "code",
      "execution_count": null,
      "id": "35abf013-cf98-4873-91c8-e2e6934b77fd",
      "metadata": {
        "id": "35abf013-cf98-4873-91c8-e2e6934b77fd",
        "outputId": "ddc4bb3f-be89-4a4d-88ec-c172d3320d2e",
        "colab": {
          "base_uri": "https://localhost:8080/"
        }
      },
      "outputs": [
        {
          "output_type": "execute_result",
          "data": {
            "text/plain": [
              "array([[44, 96],\n",
              "       [53, 30],\n",
              "       [26, 34],\n",
              "       [15, 33],\n",
              "       [50, 19]])"
            ]
          },
          "metadata": {},
          "execution_count": 28
        }
      ],
      "source": [
        "# 也可以使用reshape函数转换数组的形状，比如我将arr转换成5*2的数组\n",
        "arr.reshape((5,2))"
      ]
    },
    {
      "cell_type": "code",
      "execution_count": null,
      "id": "47b98b47-ad7a-4fa1-b4a1-a14c3ef01822",
      "metadata": {
        "id": "47b98b47-ad7a-4fa1-b4a1-a14c3ef01822"
      },
      "outputs": [],
      "source": [
        "# 可以看到变成了5行2列"
      ]
    },
    {
      "cell_type": "code",
      "execution_count": null,
      "id": "745b3820-b54a-4810-9e52-48d6cf149919",
      "metadata": {
        "id": "745b3820-b54a-4810-9e52-48d6cf149919",
        "outputId": "d34463c8-581e-48a0-dd57-1b281a60ce2f",
        "colab": {
          "base_uri": "https://localhost:8080/"
        }
      },
      "outputs": [
        {
          "output_type": "execute_result",
          "data": {
            "text/plain": [
              "array([[44, 96, 53, 30, 26],\n",
              "       [34, 15, 33, 50, 19]])"
            ]
          },
          "metadata": {},
          "execution_count": 29
        }
      ],
      "source": [
        "# 再变形成2行5列\n",
        "arr.reshape((2,5))"
      ]
    },
    {
      "cell_type": "code",
      "execution_count": null,
      "id": "ef4d882f-3336-41bf-a222-9d8371d7eedd",
      "metadata": {
        "id": "ef4d882f-3336-41bf-a222-9d8371d7eedd",
        "outputId": "2ce48a52-2c85-45b8-c038-a4ebee8f2075",
        "colab": {
          "base_uri": "https://localhost:8080/",
          "height": 158
        }
      },
      "outputs": [
        {
          "output_type": "error",
          "ename": "ValueError",
          "evalue": "cannot reshape array of size 10 into shape (2,10)",
          "traceback": [
            "\u001b[0;31m---------------------------------------------------------------------------\u001b[0m",
            "\u001b[0;31mValueError\u001b[0m                                Traceback (most recent call last)",
            "\u001b[0;32m<ipython-input-30-90bbdc325cdd>\u001b[0m in \u001b[0;36m<cell line: 2>\u001b[0;34m()\u001b[0m\n\u001b[1;32m      1\u001b[0m \u001b[0;31m# 如果尝试变形为大小为2*10呢？看看效果\u001b[0m\u001b[0;34m\u001b[0m\u001b[0;34m\u001b[0m\u001b[0m\n\u001b[0;32m----> 2\u001b[0;31m \u001b[0marr\u001b[0m\u001b[0;34m.\u001b[0m\u001b[0mreshape\u001b[0m\u001b[0;34m(\u001b[0m\u001b[0;34m(\u001b[0m\u001b[0;36m2\u001b[0m\u001b[0;34m,\u001b[0m\u001b[0;36m10\u001b[0m\u001b[0;34m)\u001b[0m\u001b[0;34m)\u001b[0m\u001b[0;34m\u001b[0m\u001b[0;34m\u001b[0m\u001b[0m\n\u001b[0m",
            "\u001b[0;31mValueError\u001b[0m: cannot reshape array of size 10 into shape (2,10)"
          ]
        }
      ],
      "source": [
        "# 如果尝试变形为大小为2*10呢？看看效果\n",
        "arr.reshape((2,10))"
      ]
    },
    {
      "cell_type": "code",
      "execution_count": null,
      "id": "fdb9a0de-1813-4207-87a4-9531d5e0b795",
      "metadata": {
        "id": "fdb9a0de-1813-4207-87a4-9531d5e0b795"
      },
      "outputs": [],
      "source": [
        "# 可以看到报错了，因为变形后的元素要求是20个，而我们原数组只有10个元素"
      ]
    },
    {
      "cell_type": "code",
      "execution_count": null,
      "id": "2f11c039-ca28-4bdd-a2f0-37dfd79f2a97",
      "metadata": {
        "id": "2f11c039-ca28-4bdd-a2f0-37dfd79f2a97"
      },
      "outputs": [],
      "source": []
    },
    {
      "cell_type": "code",
      "execution_count": null,
      "id": "689f587d-078f-4a27-9fe0-6ae9070fd010",
      "metadata": {
        "id": "689f587d-078f-4a27-9fe0-6ae9070fd010"
      },
      "outputs": [],
      "source": []
    },
    {
      "cell_type": "code",
      "execution_count": null,
      "id": "04d3c006-0443-4b51-9c7e-f6c3708a9171",
      "metadata": {
        "id": "04d3c006-0443-4b51-9c7e-f6c3708a9171"
      },
      "outputs": [],
      "source": [
        "# 那二维数组，我们在数学上也称为矩阵，我们再看一下numpy对矩阵的操作"
      ]
    },
    {
      "cell_type": "code",
      "execution_count": null,
      "id": "0e63168c-444e-4dae-81fa-e1cab8752275",
      "metadata": {
        "id": "0e63168c-444e-4dae-81fa-e1cab8752275"
      },
      "outputs": [],
      "source": []
    },
    {
      "cell_type": "code",
      "execution_count": null,
      "id": "c8a75f0a-8227-4220-9e3a-8328c14d1f26",
      "metadata": {
        "id": "c8a75f0a-8227-4220-9e3a-8328c14d1f26"
      },
      "outputs": [],
      "source": [
        "# 首先创建一个10*10 的矩阵\n",
        "matrix = np.arange(0,100).reshape((10,10))"
      ]
    },
    {
      "cell_type": "code",
      "execution_count": null,
      "id": "063771b4-cf43-4a19-84a8-45f00e560b09",
      "metadata": {
        "id": "063771b4-cf43-4a19-84a8-45f00e560b09",
        "outputId": "8e032f6d-b1a6-4b5d-da22-3a785ba37e1e",
        "colab": {
          "base_uri": "https://localhost:8080/"
        }
      },
      "outputs": [
        {
          "output_type": "execute_result",
          "data": {
            "text/plain": [
              "array([[ 0,  1,  2,  3,  4,  5,  6,  7,  8,  9],\n",
              "       [10, 11, 12, 13, 14, 15, 16, 17, 18, 19],\n",
              "       [20, 21, 22, 23, 24, 25, 26, 27, 28, 29],\n",
              "       [30, 31, 32, 33, 34, 35, 36, 37, 38, 39],\n",
              "       [40, 41, 42, 43, 44, 45, 46, 47, 48, 49],\n",
              "       [50, 51, 52, 53, 54, 55, 56, 57, 58, 59],\n",
              "       [60, 61, 62, 63, 64, 65, 66, 67, 68, 69],\n",
              "       [70, 71, 72, 73, 74, 75, 76, 77, 78, 79],\n",
              "       [80, 81, 82, 83, 84, 85, 86, 87, 88, 89],\n",
              "       [90, 91, 92, 93, 94, 95, 96, 97, 98, 99]])"
            ]
          },
          "metadata": {},
          "execution_count": 32
        }
      ],
      "source": [
        "matrix"
      ]
    },
    {
      "cell_type": "code",
      "execution_count": null,
      "id": "823f3b62-69f3-4269-b305-129738cce1d7",
      "metadata": {
        "id": "823f3b62-69f3-4269-b305-129738cce1d7",
        "outputId": "03c62414-498c-4edf-d093-7730eba015e9",
        "colab": {
          "base_uri": "https://localhost:8080/"
        }
      },
      "outputs": [
        {
          "output_type": "execute_result",
          "data": {
            "text/plain": [
              "(10, 10)"
            ]
          },
          "metadata": {},
          "execution_count": 33
        }
      ],
      "source": [
        "# 查看一下大小\n",
        "matrix.shape"
      ]
    },
    {
      "cell_type": "code",
      "execution_count": null,
      "id": "ebed07b8-d3f4-45cb-83d4-17851aa2284b",
      "metadata": {
        "id": "ebed07b8-d3f4-45cb-83d4-17851aa2284b",
        "outputId": "e633b2c1-5e1c-4d9d-fa2f-fa6766a5ed6a",
        "colab": {
          "base_uri": "https://localhost:8080/"
        }
      },
      "outputs": [
        {
          "output_type": "execute_result",
          "data": {
            "text/plain": [
              "24"
            ]
          },
          "metadata": {},
          "execution_count": 34
        }
      ],
      "source": [
        "# 使用中括号中加索引方式，获取矩阵对应元素，比如我获取第3行第5列元素\n",
        "matrix[2,4]"
      ]
    },
    {
      "cell_type": "code",
      "execution_count": null,
      "id": "ad8c6130-f3c3-487f-a804-7412c4e11a15",
      "metadata": {
        "id": "ad8c6130-f3c3-487f-a804-7412c4e11a15",
        "outputId": "06af0d4d-3f03-48aa-ede1-c0f8318ef22d",
        "colab": {
          "base_uri": "https://localhost:8080/"
        }
      },
      "outputs": [
        {
          "output_type": "execute_result",
          "data": {
            "text/plain": [
              "86"
            ]
          },
          "metadata": {},
          "execution_count": 35
        }
      ],
      "source": [
        "# 再获取矩阵第9行第7列元素\n",
        "matrix[8,6]"
      ]
    },
    {
      "cell_type": "code",
      "execution_count": null,
      "id": "8602fbee-6f06-409b-9b8c-7557a17ac944",
      "metadata": {
        "id": "8602fbee-6f06-409b-9b8c-7557a17ac944",
        "outputId": "f3a3d40d-4f8a-4ffa-9b1f-7534f11b4203",
        "colab": {
          "base_uri": "https://localhost:8080/"
        }
      },
      "outputs": [
        {
          "output_type": "execute_result",
          "data": {
            "text/plain": [
              "array([20, 21, 22, 23, 24, 25, 26, 27, 28, 29])"
            ]
          },
          "metadata": {},
          "execution_count": 36
        }
      ],
      "source": [
        "# 如果要获取某一行所有元素，我们需要使用numpy的切片：\n",
        "# 比如我要获取第3行所有元素，只需将第二个位置变成冒号:\n",
        "matrix[2,:]"
      ]
    },
    {
      "cell_type": "code",
      "execution_count": null,
      "id": "b3672e56-147a-4e36-87cd-59c972f99bc5",
      "metadata": {
        "id": "b3672e56-147a-4e36-87cd-59c972f99bc5",
        "outputId": "64f97573-1ddb-4979-8766-53228a4d19c2",
        "colab": {
          "base_uri": "https://localhost:8080/"
        }
      },
      "outputs": [
        {
          "output_type": "execute_result",
          "data": {
            "text/plain": [
              "array([ 5, 15, 25, 35, 45, 55, 65, 75, 85, 95])"
            ]
          },
          "metadata": {},
          "execution_count": 37
        }
      ],
      "source": [
        "# 类似的，比如我要获取第6列所有元素，只需将第一个位置变成冒号:\n",
        "matrix[:,5]"
      ]
    },
    {
      "cell_type": "code",
      "execution_count": null,
      "id": "ee3718d8-5642-4135-a99f-d6f59b2cbbfa",
      "metadata": {
        "id": "ee3718d8-5642-4135-a99f-d6f59b2cbbfa",
        "outputId": "6d1d0978-d09b-4597-c2f5-21b64224707f",
        "colab": {
          "base_uri": "https://localhost:8080/"
        }
      },
      "outputs": [
        {
          "output_type": "execute_result",
          "data": {
            "text/plain": [
              "(10,)"
            ]
          },
          "metadata": {},
          "execution_count": 38
        }
      ],
      "source": [
        "# 查看shape\n",
        "matrix[:,5].shape"
      ]
    },
    {
      "cell_type": "code",
      "execution_count": null,
      "id": "a01cd000-987d-4775-a4ec-4d1011b2382e",
      "metadata": {
        "id": "a01cd000-987d-4775-a4ec-4d1011b2382e",
        "outputId": "41d49413-54a3-48c8-9821-72a3938d6544",
        "colab": {
          "base_uri": "https://localhost:8080/"
        }
      },
      "outputs": [
        {
          "output_type": "execute_result",
          "data": {
            "text/plain": [
              "array([[ 5],\n",
              "       [15],\n",
              "       [25],\n",
              "       [35],\n",
              "       [45],\n",
              "       [55],\n",
              "       [65],\n",
              "       [75],\n",
              "       [85],\n",
              "       [95]])"
            ]
          },
          "metadata": {},
          "execution_count": 39
        }
      ],
      "source": [
        "# 用reshape恢复成原来的样子\n",
        "matrix[:,5].reshape((10,1))"
      ]
    },
    {
      "cell_type": "code",
      "execution_count": null,
      "id": "88666438-ea33-4308-a1c8-540fba93159c",
      "metadata": {
        "tags": [],
        "id": "88666438-ea33-4308-a1c8-540fba93159c",
        "outputId": "36ecf739-188e-45d1-c012-ddcbda43d839",
        "colab": {
          "base_uri": "https://localhost:8080/"
        }
      },
      "outputs": [
        {
          "output_type": "execute_result",
          "data": {
            "text/plain": [
              "array([[ 0,  1,  2,  3,  4,  5,  6,  7,  8,  9],\n",
              "       [10, 11, 12, 13, 14, 15, 16, 17, 18, 19],\n",
              "       [20, 21, 22, 23, 24, 25, 26, 27, 28, 29],\n",
              "       [30, 31, 32, 33, 34, 35, 36, 37, 38, 39],\n",
              "       [40, 41, 42, 43, 44, 45, 46, 47, 48, 49],\n",
              "       [50, 51, 52, 53, 54, 55, 56, 57, 58, 59],\n",
              "       [60, 61, 62, 63, 64, 65, 66, 67, 68, 69],\n",
              "       [70, 71, 72, 73, 74, 75, 76, 77, 78, 79],\n",
              "       [80, 81, 82, 83, 84, 85, 86, 87, 88, 89],\n",
              "       [90, 91, 92, 93, 94, 95, 96, 97, 98, 99]])"
            ]
          },
          "metadata": {},
          "execution_count": 40
        }
      ],
      "source": [
        "# 我们再说numpy获取矩阵一个区域的用法\n",
        "# 再看一下输出一下原来的matrix\n",
        "matrix"
      ]
    },
    {
      "cell_type": "code",
      "execution_count": null,
      "id": "977d7dbf-47db-40af-877c-7418dc3f3945",
      "metadata": {
        "id": "977d7dbf-47db-40af-877c-7418dc3f3945",
        "outputId": "cf8ce477-7712-4085-f3da-b7a708a89764",
        "colab": {
          "base_uri": "https://localhost:8080/"
        }
      },
      "outputs": [
        {
          "output_type": "execute_result",
          "data": {
            "text/plain": [
              "array([[ 1,  2,  3],\n",
              "       [11, 12, 13],\n",
              "       [21, 22, 23]])"
            ]
          },
          "metadata": {},
          "execution_count": 41
        }
      ],
      "source": [
        "# 比如我要获取第1~3行，第2~4列矩阵，我们可以用数字配合冒号的方式来获取\n",
        "\n",
        "matrix[0:3,1:4]"
      ]
    },
    {
      "cell_type": "code",
      "execution_count": null,
      "id": "dcee7511-3432-4ede-ac53-c7124fffc17f",
      "metadata": {
        "id": "dcee7511-3432-4ede-ac53-c7124fffc17f"
      },
      "outputs": [],
      "source": [
        "# 当然我们可以使用等号赋值语句，比如我将这些位置赋值0\n",
        "matrix[0:3,1:4] = 0"
      ]
    },
    {
      "cell_type": "code",
      "execution_count": null,
      "id": "f4fcc62e-2d69-4ade-9387-8a1b052ceab5",
      "metadata": {
        "tags": [],
        "id": "f4fcc62e-2d69-4ade-9387-8a1b052ceab5",
        "outputId": "60fe9bc7-0d60-4f84-d383-c85e883aadfe",
        "colab": {
          "base_uri": "https://localhost:8080/"
        }
      },
      "outputs": [
        {
          "output_type": "execute_result",
          "data": {
            "text/plain": [
              "array([[ 0,  0,  0,  0,  4,  5,  6,  7,  8,  9],\n",
              "       [10,  0,  0,  0, 14, 15, 16, 17, 18, 19],\n",
              "       [20,  0,  0,  0, 24, 25, 26, 27, 28, 29],\n",
              "       [30, 31, 32, 33, 34, 35, 36, 37, 38, 39],\n",
              "       [40, 41, 42, 43, 44, 45, 46, 47, 48, 49],\n",
              "       [50, 51, 52, 53, 54, 55, 56, 57, 58, 59],\n",
              "       [60, 61, 62, 63, 64, 65, 66, 67, 68, 69],\n",
              "       [70, 71, 72, 73, 74, 75, 76, 77, 78, 79],\n",
              "       [80, 81, 82, 83, 84, 85, 86, 87, 88, 89],\n",
              "       [90, 91, 92, 93, 94, 95, 96, 97, 98, 99]])"
            ]
          },
          "metadata": {},
          "execution_count": 43
        }
      ],
      "source": [
        "# 查看新的矩阵长啥样\n",
        "matrix"
      ]
    },
    {
      "cell_type": "code",
      "execution_count": null,
      "id": "7b148d3b-adf3-4d24-8526-43b1353775de",
      "metadata": {
        "tags": [],
        "id": "7b148d3b-adf3-4d24-8526-43b1353775de"
      },
      "outputs": [],
      "source": [
        "# 好，以上就是numpy对数组和矩阵的操作用法"
      ]
    },
    {
      "cell_type": "code",
      "execution_count": null,
      "id": "0e034fcf-bd7d-4cf6-896e-9bbcd251ba5a",
      "metadata": {
        "id": "0e034fcf-bd7d-4cf6-896e-9bbcd251ba5a"
      },
      "outputs": [],
      "source": []
    }
  ],
  "metadata": {
    "kernelspec": {
      "display_name": "Python 3",
      "language": "python",
      "name": "python3"
    },
    "language_info": {
      "codemirror_mode": {
        "name": "ipython",
        "version": 3
      },
      "file_extension": ".py",
      "mimetype": "text/x-python",
      "name": "python",
      "nbconvert_exporter": "python",
      "pygments_lexer": "ipython3",
      "version": "3.7.10"
    },
    "colab": {
      "provenance": []
    }
  },
  "nbformat": 4,
  "nbformat_minor": 5
}